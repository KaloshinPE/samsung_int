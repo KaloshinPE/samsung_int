{
 "cells": [
  {
   "cell_type": "code",
   "execution_count": 1,
   "metadata": {
    "collapsed": true
   },
   "outputs": [],
   "source": [
    "import pandas as pd\n",
    "from os import walk\n",
    "import numpy as np"
   ]
  },
  {
   "cell_type": "markdown",
   "metadata": {},
   "source": [
    "Скачано несколько произведений указанных авторов, текст очищен от строк вроде \"глава XII\", \"том II\" и т.д."
   ]
  },
  {
   "cell_type": "code",
   "execution_count": 28,
   "metadata": {
    "collapsed": true
   },
   "outputs": [],
   "source": [
    "# limits for text pieces sizes\n",
    "from sklearn.utils import shuffle\n",
    "low = 10\n",
    "high = 100\n",
    "def samples_from_file(filename, label):\n",
    "    data = pd.DataFrame({'text' : [], 'label' : []})\n",
    "    f = open(filename, 'r')\n",
    "    size = np.random.randint(low = low, high = high)\n",
    "    count = 0\n",
    "    piece = ''\n",
    "    for line in f:\n",
    "        piece = piece + ' ' + unicode(line, 'cp1251', 'ignore')\n",
    "        count += 1\n",
    "        if count >= size:\n",
    "            count = 0   \n",
    "            size = np.random.randint(low = low, high = high)\n",
    "            addition = pd.DataFrame({'text' : [piece], 'label' : [label]})\n",
    "            piece = ''\n",
    "            data = pd.concat([data, addition])\n",
    "    f.close()\n",
    "    return data"
   ]
  },
  {
   "cell_type": "markdown",
   "metadata": {},
   "source": [
    "Датасет для обучения"
   ]
  },
  {
   "cell_type": "code",
   "execution_count": 30,
   "metadata": {
    "collapsed": false
   },
   "outputs": [
    {
     "name": "stdout",
     "output_type": "stream",
     "text": [
      "828\n"
     ]
    }
   ],
   "source": [
    "from os import walk\n",
    "def scan_data(path, label):\n",
    "    f = []\n",
    "    for (dirpath, dirnames, filenames) in walk(path):\n",
    "        for filename in filenames:\n",
    "            f.append(samples_from_file(dirpath + '/' + filename, label))\n",
    "    return pd.concat(f)\n",
    "d1, d2 = scan_data('data/tolstoy', 1), scan_data('data/ilf_petrov', 0)\n",
    "min_data = np.min([len(d1), len(d2)])\n",
    "dataset = pd.concat([d1[:min_data], d2[:min_data]])\n",
    "dataset.index = range(len(dataset))\n",
    "dataset = shuffle(dataset)\n",
    "dataset.to_csv('data/dataset.csv', encoding='cp1251')\n",
    "print len(dataset)"
   ]
  },
  {
   "cell_type": "markdown",
   "metadata": {},
   "source": [
    "Датасет для проверки. В них входят куски из произведений, не входящих в тренировочный датасет."
   ]
  },
  {
   "cell_type": "code",
   "execution_count": 39,
   "metadata": {
    "collapsed": false
   },
   "outputs": [
    {
     "name": "stdout",
     "output_type": "stream",
     "text": [
      "165\n"
     ]
    }
   ],
   "source": [
    "# dataset = pd.concat([scan_data('data/tolstoy_test', 1), scan_data('data/ilf_petrov_test/', 0)])\n",
    "dataset = scan_data('data/tolstoy_test/', 1)\n",
    "# dataset = scan_data('data/ilf_petrov_test/', 0)\n",
    "dataset.index = range(len(dataset))\n",
    "dataset = shuffle(dataset)\n",
    "dataset.to_csv('data/test_dataset.csv', encoding='cp1251')\n",
    "print len(dataset)"
   ]
  },
  {
   "cell_type": "markdown",
   "metadata": {},
   "source": [
    "Простое решение."
   ]
  },
  {
   "cell_type": "code",
   "execution_count": 40,
   "metadata": {
    "collapsed": true
   },
   "outputs": [],
   "source": [
    "dataset = pd.read_csv('data/dataset.csv', encoding='cp1251')\n",
    "test_dataset = pd.read_csv('data/test_dataset.csv', encoding='cp1251')\n",
    "all_data = pd.concat([dataset, test_dataset])"
   ]
  },
  {
   "cell_type": "code",
   "execution_count": 41,
   "metadata": {
    "collapsed": false
   },
   "outputs": [],
   "source": [
    "from sklearn.feature_extraction.text import CountVectorizer\n",
    "cv = CountVectorizer(min_df=5, ngram_range=(1, 2)) \n",
    "X = cv.fit_transform(all_data.text)\n",
    "X_train, X_test, y_train, y_test = X[:len(dataset)], X[len(dataset):], dataset.label.values, test_dataset.label.values"
   ]
  },
  {
   "cell_type": "code",
   "execution_count": 42,
   "metadata": {
    "collapsed": false
   },
   "outputs": [
    {
     "name": "stdout",
     "output_type": "stream",
     "text": [
      "cross_val_score:  0.993961352657\n",
      "test score:  0.787878787879\n"
     ]
    }
   ],
   "source": [
    "from sklearn.linear_model import LogisticRegression\n",
    "from sklearn.model_selection import cross_val_score\n",
    "from sklearn.metrics import accuracy_score\n",
    "print 'cross_val_score: ', np.mean(cross_val_score(LogisticRegression(), X_train, y_train, cv=3))\n",
    "clf = LogisticRegression()\n",
    "clf.fit(X_train, y_train)\n",
    "print 'test score: ', accuracy_score(y_test, clf.predict(X_test))"
   ]
  },
  {
   "cell_type": "code",
   "execution_count": null,
   "metadata": {
    "collapsed": true
   },
   "outputs": [],
   "source": []
  }
 ],
 "metadata": {
  "kernelspec": {
   "display_name": "Python 2",
   "language": "python",
   "name": "python2"
  },
  "language_info": {
   "codemirror_mode": {
    "name": "ipython",
    "version": 2
   },
   "file_extension": ".py",
   "mimetype": "text/x-python",
   "name": "python",
   "nbconvert_exporter": "python",
   "pygments_lexer": "ipython2",
   "version": "2.7.13"
  }
 },
 "nbformat": 4,
 "nbformat_minor": 2
}
