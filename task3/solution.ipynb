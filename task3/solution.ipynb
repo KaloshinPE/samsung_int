{
 "cells": [
  {
   "cell_type": "code",
   "execution_count": 1,
   "metadata": {
    "collapsed": true
   },
   "outputs": [],
   "source": [
    "import pandas as pd\n",
    "from os import walk\n",
    "import numpy as np"
   ]
  },
  {
   "cell_type": "code",
   "execution_count": 2,
   "metadata": {
    "collapsed": true
   },
   "outputs": [],
   "source": [
    "def recode(filename):\n",
    "    f = open(filename, 'r')\n",
    "    f_c = open(filename + 'u', 'w')\n",
    "    for line in f: \n",
    "        new_line = unicode(line, 'cp1251', 'ignore').encode('utf-8')\n",
    "        f_c.write(new_line)\n",
    "    f.close()\n",
    "    f_c.close()"
   ]
  },
  {
   "cell_type": "code",
   "execution_count": null,
   "metadata": {
    "collapsed": true
   },
   "outputs": [],
   "source": [
    "recode('data/tolstoy/anna_carenina')\n",
    "recode('data/tolstoy/kazaki')\n",
    "recode('data/tolstoy/voskresenie')\n",
    "recode('data/tolstoy_test/sev_stories')"
   ]
  },
  {
   "cell_type": "markdown",
   "metadata": {},
   "source": [
    "Скачано несколько произведений указанных авторов, текст очищен от строк вроде \"глава XII\", \"том II\" и т.д."
   ]
  },
  {
   "cell_type": "code",
   "execution_count": 23,
   "metadata": {
    "collapsed": false
   },
   "outputs": [],
   "source": [
    "# limits for text pieces sizes\n",
    "from sklearn.utils import shuffle\n",
    "import re\n",
    "low = 30\n",
    "high = 50\n",
    "\n",
    "def clean_text(text):\n",
    "    return u\" \".join(re.findall(r'[\\w]+', text.lower(), re.U))\n",
    "\n",
    "def samples_from_file(filename, label):\n",
    "    data = pd.DataFrame({'text' : [], 'label' : []})\n",
    "    f = open(filename, 'r')\n",
    "    size = np.random.randint(low = low, high = high)\n",
    "    count = 0\n",
    "    piece = ''\n",
    "    for line in f:\n",
    "        cl_line = clean_text(unicode(line, 'utf-8', 'ignore'))\n",
    "        if len(cl_line) > 12:\n",
    "            piece = piece + ' ' + cl_line\n",
    "            count += 1\n",
    "            if count >= size:\n",
    "                count = 0   \n",
    "                size = np.random.randint(low = low, high = high)\n",
    "                addition = pd.DataFrame({'text' : [piece], 'label' : [label]})\n",
    "                piece = ''\n",
    "                data = pd.concat([data, addition])\n",
    "    f.close()\n",
    "    return data"
   ]
  },
  {
   "cell_type": "markdown",
   "metadata": {},
   "source": [
    "Датасет для обучения"
   ]
  },
  {
   "cell_type": "code",
   "execution_count": 24,
   "metadata": {
    "collapsed": false
   },
   "outputs": [
    {
     "name": "stdout",
     "output_type": "stream",
     "text": [
      "576\n"
     ]
    }
   ],
   "source": [
    "from os import walk\n",
    "def scan_data(path, label):\n",
    "    f = []\n",
    "    for (dirpath, dirnames, filenames) in walk(path):\n",
    "        for filename in filenames:\n",
    "            f.append(samples_from_file(dirpath + '/' + filename, label))\n",
    "    return pd.concat(f)\n",
    "d1, d2 = scan_data('data/tolstoy', 1), scan_data('data/ilf_petrov', 0)\n",
    "min_data = np.min([len(d1), len(d2)])\n",
    "dataset = pd.concat([d1[:min_data], d2[:min_data]])\n",
    "dataset.index = range(len(dataset))\n",
    "dataset = shuffle(dataset)\n",
    "dataset.to_csv('data/dataset.csv', encoding='utf-8')\n",
    "print len(dataset)"
   ]
  },
  {
   "cell_type": "markdown",
   "metadata": {},
   "source": [
    "Датасет для проверки. В них входят куски из произведений, не входящих в тренировочный датасет."
   ]
  },
  {
   "cell_type": "code",
   "execution_count": 25,
   "metadata": {
    "collapsed": false
   },
   "outputs": [
    {
     "name": "stdout",
     "output_type": "stream",
     "text": [
      "97\n"
     ]
    }
   ],
   "source": [
    "dataset = pd.concat([scan_data('data/tolstoy_test', 1), scan_data('data/ilf_petrov_test/', 0)])\n",
    "# dataset = scan_data('data/tolstoy_test/', 1)\n",
    "# dataset = scan_data('data/ilf_petrov_test/', 0)\n",
    "dataset.index = range(len(dataset))\n",
    "dataset = shuffle(dataset)\n",
    "dataset.to_csv('data/test_dataset.csv', encoding='utf-8')\n",
    "print len(dataset)"
   ]
  },
  {
   "cell_type": "markdown",
   "metadata": {},
   "source": [
    "## Решение"
   ]
  },
  {
   "cell_type": "markdown",
   "metadata": {},
   "source": [
    "Было скачано несколько произведений указанных авторов. Каждое было очищено от вспомогательных слов (\"том 2\", \"глава X\" и т.д.), знаков препинания, а так же переведено в нижний регистр. Далее из них формировалась выборка следующим образом: генерировалось случайное число n в определенных пределах, из произведения считывались n строк, и эти n строк считались элементом выборки. Для оценки качества предсказаний была использована кросс-валидация и проверка на произведениях, которые классификатор не видел при обучении."
   ]
  },
  {
   "cell_type": "code",
   "execution_count": 26,
   "metadata": {
    "collapsed": true
   },
   "outputs": [],
   "source": [
    "dataset = pd.read_csv('data/dataset.csv', encoding='utf-8')\n",
    "test_dataset = pd.read_csv('data/test_dataset.csv', encoding='utf-8')\n",
    "all_data = pd.concat([dataset, test_dataset])"
   ]
  },
  {
   "cell_type": "code",
   "execution_count": 27,
   "metadata": {
    "collapsed": false
   },
   "outputs": [],
   "source": [
    "# from sklearn.feature_extraction.text import CountVectorizer\n",
    "from sklearn.feature_extraction.text import TfidfVectorizer\n",
    "from scipy.sparse import csr_matrix, hstack\n",
    "cv = TfidfVectorizer(min_df=10, binary=True, ngram_range=(1, 3)) \n",
    "\n",
    "X = cv.fit_transform(all_data.text)\n",
    "X_train, X_test, y_train, y_test = X[:len(dataset)], X[len(dataset):], dataset.label.values, test_dataset.label.values"
   ]
  },
  {
   "cell_type": "markdown",
   "metadata": {},
   "source": [
    "$n \\in [10, 30]$"
   ]
  },
  {
   "cell_type": "code",
   "execution_count": 15,
   "metadata": {
    "collapsed": false
   },
   "outputs": [
    {
     "name": "stdout",
     "output_type": "stream",
     "text": [
      "cross_val_score:  0.998268386586\n",
      "test score:  0.989583333333\n"
     ]
    }
   ],
   "source": [
    "from sklearn.linear_model import LogisticRegression\n",
    "from sklearn.model_selection import cross_val_score\n",
    "from sklearn.metrics import accuracy_score\n",
    "\n",
    "print 'cross_val_score: ', np.mean(cross_val_score(LogisticRegression(), X_train, y_train, cv=3))\n",
    "clf = LogisticRegression()\n",
    "clf.fit(X_train, y_train)\n",
    "print 'test score: ', accuracy_score(y_test, clf.predict(X_test))"
   ]
  },
  {
   "cell_type": "markdown",
   "metadata": {},
   "source": [
    "$n \\in [10, 50]$"
   ]
  },
  {
   "cell_type": "code",
   "execution_count": 22,
   "metadata": {
    "collapsed": false
   },
   "outputs": [
    {
     "name": "stdout",
     "output_type": "stream",
     "text": [
      "cross_val_score:  0.996153846154\n",
      "test score:  1.0\n"
     ]
    }
   ],
   "source": [
    "from sklearn.linear_model import LogisticRegression\n",
    "from sklearn.model_selection import cross_val_score\n",
    "from sklearn.metrics import accuracy_score\n",
    "\n",
    "print 'cross_val_score: ', np.mean(cross_val_score(LogisticRegression(), X_train, y_train, cv=3))\n",
    "clf = LogisticRegression()\n",
    "clf.fit(X_train, y_train)\n",
    "print 'test score: ', accuracy_score(y_test, clf.predict(X_test))"
   ]
  },
  {
   "cell_type": "markdown",
   "metadata": {},
   "source": [
    "$n \\in [30, 50]$"
   ]
  },
  {
   "cell_type": "code",
   "execution_count": 28,
   "metadata": {
    "collapsed": false
   },
   "outputs": [
    {
     "name": "stdout",
     "output_type": "stream",
     "text": [
      "cross_val_score:  1.0\n",
      "test score:  1.0\n"
     ]
    }
   ],
   "source": [
    "from sklearn.linear_model import LogisticRegression\n",
    "from sklearn.model_selection import cross_val_score\n",
    "from sklearn.metrics import accuracy_score\n",
    "\n",
    "print 'cross_val_score: ', np.mean(cross_val_score(LogisticRegression(), X_train, y_train, cv=3))\n",
    "clf = LogisticRegression()\n",
    "clf.fit(X_train, y_train)\n",
    "print 'test score: ', accuracy_score(y_test, clf.predict(X_test))"
   ]
  },
  {
   "cell_type": "markdown",
   "metadata": {},
   "source": [
    "## Выводы"
   ]
  },
  {
   "cell_type": "markdown",
   "metadata": {},
   "source": [
    "1) регуляризация не дает никаких прибавок к качеству <br>\n",
    "2) повышение размера n-граммов - тоже, похоже, основная разница кроется в словарном запасе <br>\n",
    "3) последнюю догадку подтверждает и тот факт, что бинаризация признаков дает прибавку к качеству <br>\n",
    "4) использование средней длины предложения на качество влияет отрицательно - похоже, длина предложений варьировалась в зависимости от периода жизни <br>\n",
    "5) чем больше куски текста, на которых мы обучаемся и тестируем - тем выше точность. Для достаточно больших отрывков разделяющую плоскость можно провести точно."
   ]
  },
  {
   "cell_type": "code",
   "execution_count": null,
   "metadata": {
    "collapsed": true
   },
   "outputs": [],
   "source": []
  }
 ],
 "metadata": {
  "kernelspec": {
   "display_name": "Python 2",
   "language": "python",
   "name": "python2"
  },
  "language_info": {
   "codemirror_mode": {
    "name": "ipython",
    "version": 2
   },
   "file_extension": ".py",
   "mimetype": "text/x-python",
   "name": "python",
   "nbconvert_exporter": "python",
   "pygments_lexer": "ipython2",
   "version": "2.7.13"
  }
 },
 "nbformat": 4,
 "nbformat_minor": 2
}
